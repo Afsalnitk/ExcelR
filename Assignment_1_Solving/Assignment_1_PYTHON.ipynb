{
 "cells": [
  {
   "cell_type": "markdown",
   "id": "e4e3934f",
   "metadata": {},
   "source": [
    "# Q3) Three Coins are tossed, find the probability that two heads and one tail are obtained?"
   ]
  },
  {
   "cell_type": "code",
   "execution_count": 5,
   "id": "8a5105ef",
   "metadata": {},
   "outputs": [
    {
     "name": "stdout",
     "output_type": "stream",
     "text": [
      "3\n",
      "8\n",
      "0.375\n"
     ]
    }
   ],
   "source": [
    "coin_outcomes = [0,1]\n",
    "Fav_outcome=0\n",
    "Tot_outcome=0\n",
    "\n",
    "for i in coin_outcomes:\n",
    "    for j in coin_outcomes:\n",
    "        for k in coin_outcomes:\n",
    "            sum=i+j+k\n",
    "            Tot_outcome+=1\n",
    "            if sum==2:\n",
    "                Fav_outcome+=1\n",
    "print(Fav_outcome)\n",
    "print(Tot_outcome)\n",
    "Probablity= Fav_outcome/Tot_outcome\n",
    "print(Probablity)"
   ]
  },
  {
   "cell_type": "markdown",
   "id": "786a85e0",
   "metadata": {},
   "source": [
    "# Q4) Two Dice are rolled, find the probability where sum is"
   ]
  },
  {
   "cell_type": "code",
   "execution_count": 18,
   "id": "51aadf12",
   "metadata": {},
   "outputs": [
    {
     "name": "stdout",
     "output_type": "stream",
     "text": [
      "36\n",
      "0\n",
      "6\n",
      "6\n",
      "0.0\n",
      "0.16666666666666666\n",
      "0.16666666666666666\n"
     ]
    }
   ],
   "source": [
    "Dice_outcomes = [1,2,3,4,5,6]\n",
    "Fav_outcome1=0\n",
    "Fav_outcome2=0\n",
    "Fav_outcome3=0\n",
    "Tot_outcome=0\n",
    "\n",
    "for i in Dice_outcomes:\n",
    "    for j in Dice_outcomes:\n",
    "            sum=i+j\n",
    "            Tot_outcome+=1\n",
    "            if sum==1:\n",
    "                Fav_outcome1+=1\n",
    "            if sum <=4:\n",
    "                Fav_outcome2+=1\n",
    "            if sum%2==0 and sum%3==0:\n",
    "                Fav_outcome3+=1\n",
    "print(Tot_outcome)\n",
    "print(Fav_outcome1)\n",
    "print(Fav_outcome2)\n",
    "print(Fav_outcome3)\n",
    "Probablity1= Fav_outcome1/Tot_outcome\n",
    "Probablity2= Fav_outcome2/Tot_outcome\n",
    "Probablity3= Fav_outcome3/Tot_outcome\n",
    "print(Probablity1)\n",
    "print(Probablity2)\n",
    "print(Probablity3)"
   ]
  },
  {
   "cell_type": "markdown",
   "id": "cb8d39c2",
   "metadata": {},
   "source": [
    "# Q5)   A bag contains 2 red, 3 green and 2 blue balls. Two balls are drawn at random. What is the probability that none of the balls drawn is blue?"
   ]
  },
  {
   "cell_type": "code",
   "execution_count": 24,
   "id": "6605d98c",
   "metadata": {},
   "outputs": [
    {
     "name": "stdout",
     "output_type": "stream",
     "text": [
      "0.47619047619047616\n"
     ]
    }
   ],
   "source": [
    "red_balls = 2\n",
    "green_balls = 3\n",
    "blue_balls = 2\n",
    "total_balls = red_balls + green_balls + blue_balls\n",
    "non_blue_balls= red_balls + green_balls\n",
    "\n",
    "import math\n",
    "Tot_outcome = math.comb(total_balls, 2)   # Total ways to draw 2 balls out of no(total_balls) \n",
    "Fav_outcome = math.comb(non_blue_balls, 2)   # Ways to draw 2 non-blue balls out of no(non_blue_balls) \n",
    "\n",
    "probability = Fav_outcome/Tot_outcome\n",
    "print(probability)"
   ]
  },
  {
   "cell_type": "code",
   "execution_count": null,
   "id": "281d0510",
   "metadata": {},
   "outputs": [],
   "source": []
  }
 ],
 "metadata": {
  "kernelspec": {
   "display_name": "Python 3 (ipykernel)",
   "language": "python",
   "name": "python3"
  },
  "language_info": {
   "codemirror_mode": {
    "name": "ipython",
    "version": 3
   },
   "file_extension": ".py",
   "mimetype": "text/x-python",
   "name": "python",
   "nbconvert_exporter": "python",
   "pygments_lexer": "ipython3",
   "version": "3.11.4"
  }
 },
 "nbformat": 4,
 "nbformat_minor": 5
}
