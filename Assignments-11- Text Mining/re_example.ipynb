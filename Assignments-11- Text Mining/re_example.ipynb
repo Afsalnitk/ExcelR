{
 "cells": [
  {
   "cell_type": "code",
   "execution_count": 7,
   "metadata": {},
   "outputs": [
    {
     "name": "stdout",
     "output_type": "stream",
     "text": [
      "Match found: The price\n",
      "No match\n"
     ]
    }
   ],
   "source": [
    "import re\n",
    "\n",
    "pattern = r\"The price\"\n",
    "string = \"Hello, World!, The price is $20 and the discount is $5.\"\n",
    "\n",
    "#  Searches the entire string for a match and returns a match object if there is a match\n",
    "match1 = re.search(pattern, string)\n",
    "if match1:\n",
    "    print(\"Match found:\", match1.group())\n",
    "else:\n",
    "    print(\"No match\")\n",
    "\n",
    "# Matches the pattern only at the beginning of the string\n",
    "match2 = re.match(pattern, string)\n",
    "if match2:\n",
    "    print(\"Match found:\", match2.group())\n",
    "else:\n",
    "    print(\"No match\")"
   ]
  },
  {
   "cell_type": "code",
   "execution_count": 4,
   "metadata": {},
   "outputs": [
    {
     "name": "stdout",
     "output_type": "stream",
     "text": [
      "Matches: ['20', '5']\n",
      "Matches: ['The', 'price', 'is', '20', 'and', 'the', 'discount', 'is', '5']\n",
      "New string: The price is $... and the discount is $....\n"
     ]
    }
   ],
   "source": [
    "string = \"The price is $20 and the discount is $5.\"\n",
    "\n",
    "# Returns a list of all non-overlapping matches in the string\n",
    "pattern = r\"\\d+\"       # Match one or more digits\n",
    "matches = re.findall(pattern, string)\n",
    "print(\"Matches:\", matches)\n",
    "\n",
    "#  Compiles a regular expression pattern into a regular expression object, used for multiple matching operations\n",
    "pattern = re.compile(r\"\\b\\w+\\b\")     # Match whole words\n",
    "matches = pattern.findall(string)\n",
    "print(\"Matches:\", matches)\n",
    "\n",
    "# Replaces occurrences of the pattern with the specified replacement in the string\n",
    "pattern = r\"\\d+\"  # Match one or more digits\n",
    "new_string = re.sub(pattern, \"...\", string)\n",
    "print(\"New string:\", new_string)"
   ]
  }
 ],
 "metadata": {
  "kernelspec": {
   "display_name": "Python 3",
   "language": "python",
   "name": "python3"
  },
  "language_info": {
   "codemirror_mode": {
    "name": "ipython",
    "version": 3
   },
   "file_extension": ".py",
   "mimetype": "text/x-python",
   "name": "python",
   "nbconvert_exporter": "python",
   "pygments_lexer": "ipython3",
   "version": "3.11.4"
  }
 },
 "nbformat": 4,
 "nbformat_minor": 2
}
