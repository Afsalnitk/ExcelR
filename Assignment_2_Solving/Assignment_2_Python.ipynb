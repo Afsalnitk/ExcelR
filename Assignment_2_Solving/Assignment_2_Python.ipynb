{
 "cells": [
  {
   "cell_type": "code",
   "execution_count": 1,
   "metadata": {},
   "outputs": [],
   "source": [
    "import pandas as pd\n",
    "import matplotlib.pyplot as plt\n",
    "import seaborn as sns\n",
    "from scipy import stats\n",
    "import numpy as np"
   ]
  },
  {
   "cell_type": "markdown",
   "metadata": {},
   "source": [
    "# Set+1_Descriptive+statistics+Probability+(2)"
   ]
  },
  {
   "cell_type": "markdown",
   "metadata": {},
   "source": [
    "\tQ1, Look at the data given below. Plot the data, find the outliers and find out  μ,σ,σ^2\n",
    "\n",
    "Name of company\tMeasure X\n",
    "\n",
    "Allied Signal\t24.23%\n",
    "Bankers Trust\t25.53%\n",
    "General Mills\t25.41%\n",
    "ITT Industries\t24.14%\n",
    "J.P.Morgan & Co.\t29.62%\n",
    "Lehman Brothers\t28.25%\n",
    "Marriott\t25.81%\n",
    "MCI\t24.39%\n",
    "Merrill Lynch\t40.26%\n",
    "Microsoft\t32.95%\n",
    "Morgan Stanley\t91.36%\n",
    "Sun Microsystems\t25.99%\n",
    "Travelers\t39.42%\n",
    "US Airways\t26.71%\n",
    "Warner-Lambert\t35.00%\n"
   ]
  },
  {
   "cell_type": "code",
   "execution_count": 2,
   "metadata": {},
   "outputs": [
    {
     "data": {
      "text/html": [
       "<div>\n",
       "<style scoped>\n",
       "    .dataframe tbody tr th:only-of-type {\n",
       "        vertical-align: middle;\n",
       "    }\n",
       "\n",
       "    .dataframe tbody tr th {\n",
       "        vertical-align: top;\n",
       "    }\n",
       "\n",
       "    .dataframe thead th {\n",
       "        text-align: right;\n",
       "    }\n",
       "</style>\n",
       "<table border=\"1\" class=\"dataframe\">\n",
       "  <thead>\n",
       "    <tr style=\"text-align: right;\">\n",
       "      <th></th>\n",
       "      <th>Name of company</th>\n",
       "      <th>Measure X</th>\n",
       "      <th>Percentage</th>\n",
       "    </tr>\n",
       "  </thead>\n",
       "  <tbody>\n",
       "    <tr>\n",
       "      <th>0</th>\n",
       "      <td>Allied Signal</td>\n",
       "      <td>24.23%</td>\n",
       "      <td>0.2423</td>\n",
       "    </tr>\n",
       "    <tr>\n",
       "      <th>1</th>\n",
       "      <td>Bankers Trust</td>\n",
       "      <td>25.53%</td>\n",
       "      <td>0.2553</td>\n",
       "    </tr>\n",
       "    <tr>\n",
       "      <th>2</th>\n",
       "      <td>General Mills</td>\n",
       "      <td>25.41%</td>\n",
       "      <td>0.2541</td>\n",
       "    </tr>\n",
       "    <tr>\n",
       "      <th>3</th>\n",
       "      <td>ITT Industries</td>\n",
       "      <td>24.14%</td>\n",
       "      <td>0.2414</td>\n",
       "    </tr>\n",
       "    <tr>\n",
       "      <th>4</th>\n",
       "      <td>J.P.Morgan &amp; Co.</td>\n",
       "      <td>29.62%</td>\n",
       "      <td>0.2962</td>\n",
       "    </tr>\n",
       "    <tr>\n",
       "      <th>5</th>\n",
       "      <td>Lehman Brothers</td>\n",
       "      <td>28.25%</td>\n",
       "      <td>0.2825</td>\n",
       "    </tr>\n",
       "    <tr>\n",
       "      <th>6</th>\n",
       "      <td>Marriott</td>\n",
       "      <td>25.81%</td>\n",
       "      <td>0.2581</td>\n",
       "    </tr>\n",
       "    <tr>\n",
       "      <th>7</th>\n",
       "      <td>MCI</td>\n",
       "      <td>24.39%</td>\n",
       "      <td>0.2439</td>\n",
       "    </tr>\n",
       "    <tr>\n",
       "      <th>8</th>\n",
       "      <td>Merrill Lynch</td>\n",
       "      <td>40.26%</td>\n",
       "      <td>0.4026</td>\n",
       "    </tr>\n",
       "    <tr>\n",
       "      <th>9</th>\n",
       "      <td>Microsoft</td>\n",
       "      <td>32.95%</td>\n",
       "      <td>0.3295</td>\n",
       "    </tr>\n",
       "    <tr>\n",
       "      <th>10</th>\n",
       "      <td>Morgan Stanley</td>\n",
       "      <td>91.36%</td>\n",
       "      <td>0.9136</td>\n",
       "    </tr>\n",
       "    <tr>\n",
       "      <th>11</th>\n",
       "      <td>Sun Microsystems</td>\n",
       "      <td>25.99%</td>\n",
       "      <td>0.2599</td>\n",
       "    </tr>\n",
       "    <tr>\n",
       "      <th>12</th>\n",
       "      <td>Travelers</td>\n",
       "      <td>39.42%</td>\n",
       "      <td>0.3942</td>\n",
       "    </tr>\n",
       "    <tr>\n",
       "      <th>13</th>\n",
       "      <td>US Airways</td>\n",
       "      <td>26.71%</td>\n",
       "      <td>0.2671</td>\n",
       "    </tr>\n",
       "    <tr>\n",
       "      <th>14</th>\n",
       "      <td>Warner-Lambert</td>\n",
       "      <td>35.00%</td>\n",
       "      <td>0.3500</td>\n",
       "    </tr>\n",
       "  </tbody>\n",
       "</table>\n",
       "</div>"
      ],
      "text/plain": [
       "     Name of company Measure X  Percentage\n",
       "0      Allied Signal    24.23%      0.2423\n",
       "1      Bankers Trust    25.53%      0.2553\n",
       "2      General Mills    25.41%      0.2541\n",
       "3     ITT Industries    24.14%      0.2414\n",
       "4   J.P.Morgan & Co.    29.62%      0.2962\n",
       "5    Lehman Brothers    28.25%      0.2825\n",
       "6           Marriott    25.81%      0.2581\n",
       "7                MCI    24.39%      0.2439\n",
       "8      Merrill Lynch    40.26%      0.4026\n",
       "9          Microsoft    32.95%      0.3295\n",
       "10    Morgan Stanley    91.36%      0.9136\n",
       "11  Sun Microsystems    25.99%      0.2599\n",
       "12         Travelers    39.42%      0.3942\n",
       "13        US Airways    26.71%      0.2671\n",
       "14    Warner-Lambert    35.00%      0.3500"
      ]
     },
     "execution_count": 2,
     "metadata": {},
     "output_type": "execute_result"
    }
   ],
   "source": [
    "df=pd.read_csv(\"Q1.csv\")\n",
    "df['Percentage'] = df['Measure X'].str.rstrip('%').astype('float') / 100.0\n",
    "df"
   ]
  },
  {
   "cell_type": "code",
   "execution_count": 3,
   "metadata": {},
   "outputs": [
    {
     "name": "stdout",
     "output_type": "stream",
     "text": [
      "Mean: 0.333\n",
      "Variance: 0.029\n",
      "Standard Deviation: 0.169\n"
     ]
    },
    {
     "data": {
      "image/png": "[encoded data removed]",
      "text/plain": [
       "<Figure size 1000x300 with 1 Axes>"
      ]
     },
     "metadata": {},
     "output_type": "display_data"
    }
   ],
   "source": [
    "data=df.iloc[:,2]\n",
    "\n",
    "mean = data.mean();   print(f\"Mean: {mean:.3f}\")\n",
    "# median = data.median();  print(f\"Median: {median}\")\n",
    "# mode = data.mode().iloc[0];  print(f\"Median: {mode}\")\n",
    "variance = data.var();  print(f\"Variance: {variance:.3f}\")\n",
    "std_dev = data.std(); print(f\"Standard Deviation: {std_dev:.3f}\")\n",
    "\n",
    "# df.describe()\n",
    "\n",
    "plt.figure(figsize = (10,3));\n",
    "plt.boxplot(df.Percentage, vert= False)\n",
    "plt.savefig('Q1.png')\n",
    "plt.show()"
   ]
  },
  {
   "cell_type": "markdown",
   "metadata": {},
   "source": [
    "# Set+2_Normal+Distribution+Functions+of+random+variables+(1)"
   ]
  },
  {
   "cell_type": "code",
   "execution_count": 4,
   "metadata": {},
   "outputs": [],
   "source": [
    "from scipy import stats\n",
    "from scipy.stats import norm"
   ]
  },
  {
   "cell_type": "markdown",
   "metadata": {},
   "source": [
    "Q1.\tThe time required for servicing transmissions is normally distributed with  = 45 minutes and  = 8 minutes. The service manager plans to have work begin on the transmission of a customer’s car 10 minutes after the car is dropped off and the customer is told that the car will be ready within 1 hour from drop-off. What is the probability that the service manager cannot meet his commitment? \n",
    "\n",
    "A.\t0.3875   \n",
    "B.\t0.2676   \n",
    "C.\t0.5   \n",
    "D.\t0.6987 \n"
   ]
  },
  {
   "cell_type": "code",
   "execution_count": 5,
   "metadata": {},
   "outputs": [
    {
     "name": "stdout",
     "output_type": "stream",
     "text": [
      "The probability that the service manager cannot meet his commitment is approximately: 0.2660\n"
     ]
    }
   ],
   "source": [
    "mean = 45\n",
    "std_dev = 8\n",
    "time_commitment = 50\n",
    "\n",
    "# z-score\n",
    "z = (time_commitment - mean) / std_dev\n",
    "\n",
    "# cumulative distribution function (CDF)\n",
    "probability = 1 - norm.cdf(z)\n",
    "\n",
    "print(f\"The probability that the service manager cannot meet his commitment is approximately: {probability:.4f}\")\n"
   ]
  },
  {
   "cell_type": "markdown",
   "metadata": {},
   "source": [
    "Q2.\tThe current age (in years) of 400 clerical employees at an insurance claims processing center is normally distributed with mean  = 38 and Standard deviation  =6. For each statement below, please specify True/False. If false, briefly explain why.\n",
    "\n",
    "A.\tMore employees at the processing center are older than 44 than between 38 and 44."
   ]
  },
  {
   "cell_type": "code",
   "execution_count": 6,
   "metadata": {},
   "outputs": [
    {
     "name": "stdout",
     "output_type": "stream",
     "text": [
      "Probability of being older than 44: 0.1587\n",
      "Probability of being between 38 and 44: 0.3413\n"
     ]
    }
   ],
   "source": [
    "mean = 38\n",
    "std_dev = 6\n",
    "\n",
    "z_44 = (44 - mean) / std_dev\n",
    "z_38 = (38 - mean) / std_dev\n",
    "\n",
    "# Probability of being older than 44\n",
    "p_older_than_44 = 1 - norm.cdf(z_44)\n",
    "\n",
    "# Probability of being between 38 and 44\n",
    "p_between_38_and_44 = norm.cdf(z_44) - norm.cdf(z_38)\n",
    "\n",
    "print(f\"Probability of being older than 44: {p_older_than_44:.4f}\")\n",
    "print(f\"Probability of being between 38 and 44: {p_between_38_and_44:.4f}\")"
   ]
  },
  {
   "cell_type": "markdown",
   "metadata": {},
   "source": [
    "B.\tA training program for employees under the age of 30 at the center would be expected to attract about 36 employees"
   ]
  },
  {
   "cell_type": "code",
   "execution_count": 7,
   "metadata": {},
   "outputs": [
    {
     "name": "stdout",
     "output_type": "stream",
     "text": [
      "Expected number of employees under the age of 30: 36.48\n"
     ]
    }
   ],
   "source": [
    "total_employees = 400\n",
    "\n",
    "z_30 = (30 - mean) / std_dev\n",
    "\n",
    "# Probability of being under the age of 30\n",
    "p_under_30 = norm.cdf(z_30)\n",
    "\n",
    "# Expected number of employees under the age of 30\n",
    "expected_employees_under_30 = total_employees * p_under_30\n",
    "\n",
    "print(f\"Expected number of employees under the age of 30: {expected_employees_under_30:.2f}\")"
   ]
  },
  {
   "cell_type": "markdown",
   "metadata": {},
   "source": [
    "Q4.\tLet X ~ N(100, 20**2). Find two values, a and b, symmetric about the mean, such that the probability of the random variable taking a value between them is 0.99. \n",
    "\n",
    "A.\t90.5, 105.9 \n",
    "\n",
    "B.\t80.2, 119.8 \n",
    "\n",
    "C.\t22, 78 \n",
    "\n",
    "D.\t48.5, 151.5 \n",
    "\n",
    "E.\t90.1, 109.9\n"
   ]
  },
  {
   "cell_type": "code",
   "execution_count": 8,
   "metadata": {},
   "outputs": [
    {
     "name": "stdout",
     "output_type": "stream",
     "text": [
      "The values [a, b] symmetric about the mean with a 0.99 probability are: [48.5, 151.5]\n"
     ]
    }
   ],
   "source": [
    "mean = 100\n",
    "std_dev = 20\n",
    "probability = 0.99\n",
    "\n",
    "# the z-scores \n",
    "z_score_lower = norm.ppf((1 - probability) / 2)  # Lower bound z-score\n",
    "z_score_upper = norm.ppf((1 + probability) / 2)  # Upper bound z-score\n",
    "\n",
    "# Convert z-scores back to the original scale\n",
    "value_a = mean + z_score_lower * std_dev\n",
    "value_b = mean + z_score_upper * std_dev\n",
    "\n",
    "print(f\"The values [a, b] symmetric about the mean with a 0.99 probability are: [{value_a:.1f}, {value_b:.1f}]\")\n"
   ]
  },
  {
   "cell_type": "markdown",
   "metadata": {},
   "source": [
    "Q5.\tConsider a company that has two different divisions. The annual profits from the two divisions are independent and have distributions Profit1 ~ N(5, 32) and Profit2 ~ N(7, 42) respectively. Both the profits are in $ Million. Answer the following questions about the total profit of the company in Rupees. Assume that $1 = Rs. 45\n",
    "\n",
    "A.\tSpecify a Rupee range (centered on the mean) such that it contains 95% probability for the annual profit of the company.\n",
    "\n"
   ]
  },
  {
   "cell_type": "code",
   "execution_count": 9,
   "metadata": {},
   "outputs": [
    {
     "name": "stdout",
     "output_type": "stream",
     "text": [
      "Mean: 54.0 Crore Rupees\n",
      "Standard Deviation: 22.5 Crore Rupees\n",
      "Rupee range (centered on the mean) for 95% probability: [9.90 Crore Rupees , 98.10 Crore Rupees']\n"
     ]
    }
   ],
   "source": [
    "# for Profit1\n",
    "mean1 = 5\n",
    "std_dev1 = 3\n",
    "\n",
    "# for Profit2\n",
    "mean2 = 7\n",
    "std_dev2 = 4\n",
    "\n",
    "conversion_factor = 45/10    # Million$ to Crore Rupees\n",
    "\n",
    "Mean = (mean1+mean2);  print('Mean:', Mean*conversion_factor, 'Crore Rupees')\n",
    "std_dev = np.sqrt(std_dev1**2 + std_dev2**2);  print('Standard Deviation:', std_dev*conversion_factor, 'Crore Rupees')\n",
    "\n",
    "\n",
    "# Calculate the Rupee range\n",
    "z_score = norm.ppf(0.975)  # 97.5th percentile for a two-tailed test\n",
    "# rupee_range = [Mean* conversion_factor - z_score * std_dev * conversion_factor, Mean* conversion_factor + z_score * std_dev * conversion_factor]\n",
    "rupee_range = np.round(stats.norm.interval(0.95, Mean* conversion_factor, std_dev* conversion_factor),2)\n",
    "\n",
    "print(f\"Rupee range (centered on the mean) for 95% probability: [{rupee_range[0]:.2f} Crore Rupees , {rupee_range[1]:.2f} Crore Rupees']\")\n"
   ]
  },
  {
   "cell_type": "markdown",
   "metadata": {},
   "source": [
    "B.\tSpecify the 5th percentile of profit (in Rupees) for the company"
   ]
  },
  {
   "cell_type": "code",
   "execution_count": 10,
   "metadata": {},
   "outputs": [
    {
     "name": "stdout",
     "output_type": "stream",
     "text": [
      "The 5th percentile of profit for the company is: 16.99 Crore Rupees\n"
     ]
    }
   ],
   "source": [
    "# Calculate the 5th percentile\n",
    "percentile_5 = norm.ppf(0.05, Mean, std_dev) * conversion_factor\n",
    "\n",
    "print(f\"The 5th percentile of profit for the company is: {percentile_5:.2f} Crore Rupees\")"
   ]
  },
  {
   "cell_type": "markdown",
   "metadata": {},
   "source": [
    "C.\tWhich of the two divisions has a larger probability of making a loss in a given year?"
   ]
  },
  {
   "cell_type": "code",
   "execution_count": 11,
   "metadata": {},
   "outputs": [
    {
     "name": "stdout",
     "output_type": "stream",
     "text": [
      "D1 probability loss: 4.78 %\n",
      "D2 probability loss: 4.01 %\n",
      "The division with a larger probability of making a loss is: Profit1\n"
     ]
    }
   ],
   "source": [
    "# the probabilities of making a loss\n",
    "probability_loss1 = norm.cdf(0, mean1, std_dev1); print('D1 probability loss:', np.round(probability_loss1*100,2),'%')\n",
    "probability_loss2 = norm.cdf(0, mean2, std_dev2); print('D2 probability loss:', np.round(probability_loss2*100,2),'%')\n",
    "\n",
    "larger_loss_probability = \"Profit1\" if probability_loss1 > probability_loss2 else \"Profit2\"\n",
    "\n",
    "print(f\"The division with a larger probability of making a loss is: {larger_loss_probability}\")\n"
   ]
  },
  {
   "cell_type": "markdown",
   "metadata": {},
   "source": [
    "# Set+3"
   ]
  },
  {
   "cell_type": "markdown",
   "metadata": {},
   "source": [
    "Q5.\tIn January 2005, a company that monitors Internet traffic (WebSideStory) reported that its sampling revealed that the Mozilla Firefox browser launched in 2004 had grabbed a 4.6% share of the market.\n",
    "\n",
    "I.\tIf the sample were based on 2,000 users, could Microsoft conclude that Mozilla has a less than 5% share of the market?\n"
   ]
  },
  {
   "cell_type": "code",
   "execution_count": 12,
   "metadata": {},
   "outputs": [
    {
     "name": "stdout",
     "output_type": "stream",
     "text": [
      "The confidence interval is: [3.68%, 5.52%]\n"
     ]
    }
   ],
   "source": [
    "import math\n",
    "\n",
    "def calculate_confidence_interval(sample_size, reported_percentage, confidence_level):\n",
    "    z_score = norm.ppf((1 + confidence_level/100) / 2)\n",
    "    p = reported_percentage / 100.0\n",
    "    \n",
    "    # Calculate standard error\n",
    "    standard_error = math.sqrt((p * (1 - p)) / sample_size)\n",
    "    \n",
    "    # Calculate margin of error\n",
    "    margin_of_error = z_score * standard_error\n",
    "    \n",
    "    # Calculate confidence interval\n",
    "    lower_bound = p - margin_of_error\n",
    "    upper_bound = p + margin_of_error\n",
    "    \n",
    "    return lower_bound, upper_bound\n",
    "\n",
    "# Given data\n",
    "sample_size = 2000\n",
    "reported_percentage = 4.6\n",
    "confidence_level = 95\n",
    "\n",
    "# Calculate confidence interval\n",
    "lower_bound, upper_bound = calculate_confidence_interval(sample_size, reported_percentage, confidence_level)\n",
    "\n",
    "# Display the result\n",
    "print(f\"The confidence interval is: [{lower_bound * 100:.2f}%, {upper_bound * 100:.2f}%]\")\n"
   ]
  },
  {
   "cell_type": "markdown",
   "metadata": {},
   "source": [
    "# Set+4"
   ]
  },
  {
   "cell_type": "markdown",
   "metadata": {},
   "source": [
    "Q3.\tAuditors at a small community bank randomly sample 100 withdrawal transactions made during the week at an ATM machine located near the bank’s main branch. Over the past 2 years, the average withdrawal amount has been $50 with a standard deviation of $40. Since audit investigations are typically expensive, the auditors decide to not initiate further investigations if the mean transaction amount of the sample is between $45 and $55. What is the probability that in any given week, there will be an investigation?\n",
    "\n",
    "A.\t1.25%\n",
    "B.\t2.5%\n",
    "C.\t10.55%\n",
    "D.\t21.1%\n",
    "E.\t50%\n"
   ]
  },
  {
   "cell_type": "code",
   "execution_count": 13,
   "metadata": {},
   "outputs": [
    {
     "name": "stdout",
     "output_type": "stream",
     "text": [
      "The standard error is: 2.550306852253353\n",
      "The lower probability is: 0.0250\n",
      "The upper probability is: 0.0250\n",
      "The probability of an investigation is: 0.0499\n"
     ]
    }
   ],
   "source": [
    "population_mean = 50\n",
    "population_std_dev = 40\n",
    "sample_size = 246\n",
    "lower_limit = 45\n",
    "upper_limit = 55\n",
    "\n",
    "standard_error = population_std_dev / (sample_size ** 0.5); print(f\"The standard error is: {standard_error}\")\n",
    "\n",
    "z_lower = (lower_limit - population_mean) / standard_error\n",
    "z_upper = (upper_limit - population_mean) / standard_error\n",
    "\n",
    "probability_lower = norm.cdf(z_lower); print(f\"The lower probability is: {probability_lower:.4f}\")\n",
    "probability_upper = 1 - stats.norm.cdf(z_upper); print(f\"The upper probability is: {probability_upper:.4f}\")\n",
    "\n",
    "# Probability of investigation\n",
    "probability_investigation = probability_lower + probability_upper\n",
    "\n",
    "print(f\"The probability of an investigation is: {probability_investigation:.4f}\")\n"
   ]
  },
  {
   "cell_type": "markdown",
   "metadata": {},
   "source": [
    "Q4.\tThe auditors from the above example would like to maintain the probability of investigation to 5%. Which of the following represents the minimum number transactions that they should sample if they do not want to change the thresholds of 45 and 55? Assume that the sample statistics remain unchanged.\n",
    "\n",
    "A.\t144\n",
    "B.\t150\n",
    "C.\t196\n",
    "D.\t250\n",
    "E.\tNot enough information\n"
   ]
  },
  {
   "cell_type": "code",
   "execution_count": 14,
   "metadata": {},
   "outputs": [
    {
     "name": "stdout",
     "output_type": "stream",
     "text": [
      "The margin of error is: 5.0000\n",
      "The minimum required sample size is: 246\n"
     ]
    }
   ],
   "source": [
    "desired_probability = 0.05  # 5%\n",
    "mean=50\n",
    "\n",
    "Z_score = norm.ppf(1 - desired_probability/2)\n",
    "\n",
    "# Calculate margin of error\n",
    "# margin_of_error = (upper_limit - lower_limit) / (2 * Z_score);\n",
    "margin_of_error = (mean - lower_limit); print(f\"The margin of error is: {margin_of_error:.4f}\")\n",
    "\n",
    "# Calculate the minimum required sample size\n",
    "min_sample_size = ((Z_score * population_std_dev) / margin_of_error) ** 2\n",
    "\n",
    "print(f\"The minimum required sample size is: {min_sample_size:.0f}\")\n"
   ]
  }
 ],
 "metadata": {
  "kernelspec": {
   "display_name": "Python 3",
   "language": "python",
   "name": "python3"
  },
  "language_info": {
   "codemirror_mode": {
    "name": "ipython",
    "version": 3
   },
   "file_extension": ".py",
   "mimetype": "text/x-python",
   "name": "python",
   "nbconvert_exporter": "python",
   "pygments_lexer": "ipython3",
   "version": "3.11.4"
  }
 },
 "nbformat": 4,
 "nbformat_minor": 2
}
